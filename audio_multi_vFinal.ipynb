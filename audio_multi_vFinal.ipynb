{
  "nbformat": 4,
  "nbformat_minor": 0,
  "metadata": {
    "colab": {
      "name": "audio_multi_vFinal.ipynb",
      "provenance": [],
      "collapsed_sections": [
        "549wiKg5d8lh",
        "v6k1vpJkqdjj",
        "PljnqlBuicdg",
        "Zc1YMO34Wgkc",
        "28_iIYupoNt4",
        "EhfNx7aGR2DH"
      ]
    },
    "kernelspec": {
      "name": "python3",
      "display_name": "Python 3"
    }
  },
  "cells": [
    {
      "cell_type": "markdown",
      "metadata": {
        "id": "POmfd61_O1M1"
      },
      "source": [
        "## Imports"
      ]
    },
    {
      "cell_type": "code",
      "metadata": {
        "id": "9D_JWcA-Ozti"
      },
      "source": [
        "import json\n",
        "import librosa, librosa.display\n",
        "import matplotlib.pyplot as plt\n",
        "import keras \n",
        "import numpy as np\n",
        "from sklearn.model_selection import train_test_split\n",
        "import pandas as pd\n",
        "from sklearn.metrics import confusion_matrix\n",
        "from keras.models import Model\n",
        "from keras.preprocessing.text import Tokenizer\n",
        "from keras.preprocessing.sequence import pad_sequences\n",
        "from keras.utils import to_categorical\n",
        "\n",
        "import gensim\n",
        "from gensim.models import Word2Vec\n",
        "from gensim.models import KeyedVectors\n",
        "\n",
        "from keras.layers import Dense, Input, Flatten, Embedding, Conv1D, MaxPooling1D, Dropout, BatchNormalization, Activation, concatenate\n",
        "from keras.models import Model, load_model\n",
        "from keras import optimizers\n",
        "from keras import backend as K\n",
        "from sklearn.metrics import f1_score\n",
        "from sklearn import svm\n",
        "import random\n",
        "\n",
        "from sklearn.metrics import precision_score\n",
        "from sklearn.metrics import recall_score\n",
        "from sklearn.metrics import accuracy_score"
      ],
      "execution_count": null,
      "outputs": []
    },
    {
      "cell_type": "markdown",
      "metadata": {
        "id": "qSJ4YgJk5Spt"
      },
      "source": [
        "## Fetch data from json transcript"
      ]
    },
    {
      "cell_type": "code",
      "metadata": {
        "id": "n6qyt_b-5Mne"
      },
      "source": [
        "f = open('/content/drive/MyDrive/Sarcasm/Dataset/mustard/transcript.json',) \n",
        "  \n",
        "# returns JSON object as  \n",
        "# a dictionary \n",
        "data_text = json.load(f) \n",
        "data = pd.read_csv('new_tra_sarc.csv')\n",
        "data_non_sarc = pd.read_csv('new_tra_non_sarc.csv')"
      ],
      "execution_count": null,
      "outputs": []
    },
    {
      "cell_type": "code",
      "metadata": {
        "id": "Dq6qPg0LnPMo"
      },
      "source": [
        "name_list = []\n",
        "for i in data['name']:\n",
        "  name_list.append(i)\n",
        "\n",
        "name_list_ns = []\n",
        "for i in data_non_sarc['name']:\n",
        "  name_list_ns.append(i)"
      ],
      "execution_count": null,
      "outputs": []
    },
    {
      "cell_type": "markdown",
      "metadata": {
        "id": "VCFHhz4ZORJD"
      },
      "source": [
        "# Audio"
      ]
    },
    {
      "cell_type": "markdown",
      "metadata": {
        "id": "AxF5WkC0rAex"
      },
      "source": [
        "## Fn define"
      ]
    },
    {
      "cell_type": "markdown",
      "metadata": {
        "id": "6p9c6AIq8Bsf"
      },
      "source": [
        "### Create MFCCs"
      ]
    },
    {
      "cell_type": "code",
      "metadata": {
        "id": "hgwYMJGH7nlN"
      },
      "source": [
        "def create_MFCC(data):\n",
        "  hop_length = 512 # in num. of samples\n",
        "  n_fft = 2048 # window in num. of samples\n",
        "\n",
        "  X = []\n",
        "  y = []\n",
        "\n",
        "  #counter \n",
        "  c = 0\n",
        "  c2 = 0\n",
        "  for i in data['name']:\n",
        "    f = \"/content/drive/MyDrive/Sarcasm/Dataset/mustard/utterance_audio/\"+str(i)+\".wav\"\n",
        "    # load audio file with Librosa\n",
        "    signal, sample_rate = librosa.load(f, sr=22050)\n",
        "    MFCCs = librosa.feature.mfcc(signal, sample_rate, n_fft=n_fft, hop_length=hop_length, n_mfcc=13)\n",
        "    X.append(MFCCs)\n",
        "    c += 1\n",
        "    if(c==10):\n",
        "      print(c2)\n",
        "      c2 += 1\n",
        "      c= 0\n",
        "  return(X)"
      ],
      "execution_count": null,
      "outputs": []
    },
    {
      "cell_type": "markdown",
      "metadata": {
        "id": "xE_OzhyHSvn-"
      },
      "source": [
        "### Slice MFCCs"
      ]
    },
    {
      "cell_type": "code",
      "metadata": {
        "id": "pzvu_GxdBCC8"
      },
      "source": [
        "def slice_MFCC(data, X):\n",
        "  l = data['name']\n",
        "  X_seg = []\n",
        "  y_seg = []\n",
        "  win_count_train = []\n",
        "  for i in range(len(X)):\n",
        "    s = 0\n",
        "    e = s+46  #filter size\n",
        "    p = 1\n",
        "    x = X[i].T\n",
        "    win_count_train.append(0)\n",
        "    while(e<x.shape[0]):\n",
        "      win_count_train[-1] += 1\n",
        "      X_seg.append(np.array(x[s:e]))\n",
        "      if( int(data[data['name']==l[i]]['start_win']) <=p and int(data[data['name']==l[i]]['end_win']) >=p):\n",
        "        y_seg.append(1)\n",
        "      else:\n",
        "        y_seg.append(0)\n",
        "      s,e,p = e, e+46, p+1\n",
        "  return(X_seg, y_seg, win_count_train)"
      ],
      "execution_count": null,
      "outputs": []
    },
    {
      "cell_type": "markdown",
      "metadata": {
        "id": "CzFs_sQXE6bK"
      },
      "source": [
        "### RNN Model"
      ]
    },
    {
      "cell_type": "code",
      "metadata": {
        "id": "4X_ouVaqE8cK"
      },
      "source": [
        "def build_model(input_shape):\n",
        "    \"\"\"Generates RNN-LSTM model\n",
        "    :param input_shape (tuple): Shape of input set\n",
        "    :return model: RNN-LSTM model\n",
        "    \"\"\"\n",
        "\n",
        "    # build network topology\n",
        "    model = keras.Sequential()\n",
        "\n",
        "    # 2 LSTM layers\n",
        "    model.add(keras.layers.LSTM(64, input_shape=input_shape, return_sequences=True))\n",
        "    model.add(keras.layers.LSTM(64))\n",
        "\n",
        "    # dense layer\n",
        "    model.add(keras.layers.Dense(64, activation='relu'))\n",
        "    model.add(keras.layers.Dropout(0.3))\n",
        "\n",
        "    # output layer\n",
        "    model.add(keras.layers.Dense(2, activation='softmax'))\n",
        "\n",
        "    return model"
      ],
      "execution_count": null,
      "outputs": []
    },
    {
      "cell_type": "code",
      "metadata": {
        "id": "SwcfNmjqGo5x",
        "colab": {
          "base_uri": "https://localhost:8080/"
        },
        "outputId": "3421183b-e743-4251-c675-498e7414bb8c"
      },
      "source": [
        "model = build_model((46,13))\n",
        "\n",
        "# compile model\n",
        "optimiser = keras.optimizers.Adam(learning_rate=0.0001)\n",
        "model.compile(optimizer=optimiser,loss='sparse_categorical_crossentropy', metrics=['accuracy'])\n",
        "\n",
        "model.summary()"
      ],
      "execution_count": null,
      "outputs": [
        {
          "output_type": "stream",
          "text": [
            "Model: \"sequential\"\n",
            "_________________________________________________________________\n",
            "Layer (type)                 Output Shape              Param #   \n",
            "=================================================================\n",
            "lstm (LSTM)                  (None, 46, 64)            19968     \n",
            "_________________________________________________________________\n",
            "lstm_1 (LSTM)                (None, 64)                33024     \n",
            "_________________________________________________________________\n",
            "dense (Dense)                (None, 64)                4160      \n",
            "_________________________________________________________________\n",
            "dropout (Dropout)            (None, 64)                0         \n",
            "_________________________________________________________________\n",
            "dense_1 (Dense)              (None, 2)                 130       \n",
            "=================================================================\n",
            "Total params: 57,282\n",
            "Trainable params: 57,282\n",
            "Non-trainable params: 0\n",
            "_________________________________________________________________\n"
          ],
          "name": "stdout"
        }
      ]
    },
    {
      "cell_type": "markdown",
      "metadata": {
        "id": "1x00iWSMpjIT"
      },
      "source": [
        "## Fn call sarc"
      ]
    },
    {
      "cell_type": "code",
      "metadata": {
        "id": "CWgrUTY_pikF",
        "colab": {
          "base_uri": "https://localhost:8080/"
        },
        "outputId": "bfc58e7b-526c-43c7-90bc-1d589786be7f"
      },
      "source": [
        "X = create_MFCC(data)"
      ],
      "execution_count": null,
      "outputs": [
        {
          "output_type": "stream",
          "text": [
            "0\n",
            "1\n",
            "2\n",
            "3\n",
            "4\n",
            "5\n",
            "6\n",
            "7\n",
            "8\n",
            "9\n",
            "10\n",
            "11\n",
            "12\n",
            "13\n",
            "14\n",
            "15\n",
            "16\n",
            "17\n",
            "18\n",
            "19\n",
            "20\n",
            "21\n",
            "22\n",
            "23\n",
            "24\n",
            "25\n",
            "26\n",
            "27\n",
            "28\n",
            "29\n",
            "30\n",
            "31\n",
            "32\n",
            "33\n"
          ],
          "name": "stdout"
        }
      ]
    },
    {
      "cell_type": "code",
      "metadata": {
        "id": "DifR7gC-yJG9"
      },
      "source": [
        "X_train, X_test, y_train, y_test = train_test_split(np.array([i for i in range(345)]), np.array([0 for i in range(345)]), test_size=0.2, random_state=55)\n",
        "\n",
        "X_tr = [X[i] for i in X_train]\n",
        "X_te = [X[i] for i in X_test]\n",
        "\n",
        "name1 = [name_list[i] for i in X_train]\n",
        "name2 = [name_list[i] for i in X_test]\n",
        "new_name_list = name1+name2\n",
        "\n",
        "X_seg, y_seg, win_count_train = slice_MFCC(data, X_tr)\n",
        "X_test, y_test, win_count_test = slice_MFCC(data, X_te)"
      ],
      "execution_count": null,
      "outputs": []
    },
    {
      "cell_type": "code",
      "metadata": {
        "colab": {
          "base_uri": "https://localhost:8080/"
        },
        "id": "YMT7fzmdXPuL",
        "outputId": "5d1b4473-61cd-4dde-cbe6-3f5b2d6aae88"
      },
      "source": [
        "y_seg.count(0)"
      ],
      "execution_count": null,
      "outputs": [
        {
          "output_type": "execute_result",
          "data": {
            "text/plain": [
              "479"
            ]
          },
          "metadata": {
            "tags": []
          },
          "execution_count": 16
        }
      ]
    },
    {
      "cell_type": "code",
      "metadata": {
        "id": "iB5feJPOHmzS"
      },
      "source": [
        "#history = model.fit(np.array(X_seg), np.array(y_seg),  batch_size=5, epochs=10)\n",
        "model = keras.models.load_model('/content/F1-38.h5')"
      ],
      "execution_count": null,
      "outputs": []
    },
    {
      "cell_type": "code",
      "metadata": {
        "id": "wSmmNeDIIuox",
        "colab": {
          "base_uri": "https://localhost:8080/"
        },
        "outputId": "8622c343-31d3-4167-81bb-1e874f2c5864"
      },
      "source": [
        "test_loss, test_acc = model.evaluate(np.array(X_test), np.array(y_test), verbose=2)\n",
        "print('\\nTest accuracy:', test_acc)"
      ],
      "execution_count": null,
      "outputs": [
        {
          "output_type": "stream",
          "text": [
            "10/10 - 1s - loss: 0.6878 - accuracy: 0.5938\n",
            "\n",
            "Test accuracy: 0.59375\n"
          ],
          "name": "stdout"
        }
      ]
    },
    {
      "cell_type": "code",
      "metadata": {
        "colab": {
          "base_uri": "https://localhost:8080/"
        },
        "id": "i8-AhbAvFETn",
        "outputId": "0cde5be9-0f4b-40d5-b70b-6cc02926822f"
      },
      "source": [
        "l = model.predict(np.array(X_test))\n",
        "print(len(l), sum(win_count_train))\n",
        "a = []\n",
        "for i in range(len(l)):\n",
        "  if(l[i][0]>=l[i][1]):\n",
        "    a.append(0)\n",
        "  else:\n",
        "    a.append(1)\n",
        "\n",
        "confusion_matrix(np.array(y_test), a)"
      ],
      "execution_count": null,
      "outputs": [
        {
          "output_type": "stream",
          "text": [
            "320 1383\n"
          ],
          "name": "stdout"
        },
        {
          "output_type": "execute_result",
          "data": {
            "text/plain": [
              "array([[171,  32],\n",
              "       [ 98,  19]])"
            ]
          },
          "metadata": {
            "tags": []
          },
          "execution_count": 14
        }
      ]
    },
    {
      "cell_type": "code",
      "metadata": {
        "id": "8kwLft0agUYC"
      },
      "source": [
        "model.save('F1-38.h5')"
      ],
      "execution_count": null,
      "outputs": []
    },
    {
      "cell_type": "markdown",
      "metadata": {
        "id": "ahYxJ2YWd3EC"
      },
      "source": [
        "### Multiple models"
      ]
    },
    {
      "cell_type": "code",
      "metadata": {
        "colab": {
          "base_uri": "https://localhost:8080/",
          "height": 1000
        },
        "id": "rsFb0Hvz0f3o",
        "outputId": "5da55fa7-8c8e-4de1-d752-7979120372bf"
      },
      "source": [
        "import random\n",
        "TA = []\n",
        "F1 = []\n",
        "CM = []\n",
        "II = [74, 68, 2, 29, 27, 73, 48, 98, 65, 88]\n",
        "for kz in range(10):\n",
        "  iki = II[kz]#random.randint(1,100)\n",
        "  #II.append(iki)\n",
        "  X_train, X_test, y_train, y_test = train_test_split(np.array([i for i in range(345)]), np.array([0 for i in range(345)]), test_size=0.2, random_state=iki)\n",
        "\n",
        "  X_tr = [X[i] for i in X_train]\n",
        "  X_te = [X[i] for i in X_test]\n",
        "  X_seg, y_seg, win_count_train = slice_MFCC(data, X_tr)\n",
        "  X_test, y_test, win_count_test = slice_MFCC(data, X_te)\n",
        "\n",
        "  history = model.fit(np.array(X_seg), np.array(y_seg),  batch_size=5, epochs=10)\n",
        "\n",
        "  test_loss, test_acc = model.evaluate(np.array(X_test), np.array(y_test), verbose=2)\n",
        "  TA.append(test_acc)\n",
        "\n",
        "  l = model.predict(np.array(X_test))\n",
        "  print(len(l), sum(win_count_train))\n",
        "  a = []\n",
        "  for i in range(len(l)):\n",
        "    if(l[i][0]>=l[i][1]):\n",
        "      a.append(0)\n",
        "    else:\n",
        "      a.append(1)\n",
        "\n",
        "  CM.append(confusion_matrix(np.array(y_test), a))\n",
        "\n",
        "  from sklearn.metrics import f1_score\n",
        "  F1.append(f1_score(np.array(y_test), a))"
      ],
      "execution_count": null,
      "outputs": [
        {
          "output_type": "stream",
          "text": [
            "Epoch 1/10\n",
            "271/271 [==============================] - 12s 36ms/step - loss: 0.7637 - accuracy: 0.6109\n",
            "Epoch 2/10\n",
            "271/271 [==============================] - 10s 36ms/step - loss: 0.6267 - accuracy: 0.6516\n",
            "Epoch 3/10\n",
            "271/271 [==============================] - 10s 36ms/step - loss: 0.5908 - accuracy: 0.6805\n",
            "Epoch 4/10\n",
            "271/271 [==============================] - 10s 36ms/step - loss: 0.5674 - accuracy: 0.6827\n",
            "Epoch 5/10\n",
            "271/271 [==============================] - 10s 36ms/step - loss: 0.5383 - accuracy: 0.7130\n",
            "Epoch 6/10\n",
            "271/271 [==============================] - 10s 36ms/step - loss: 0.5182 - accuracy: 0.7234\n",
            "Epoch 7/10\n",
            "271/271 [==============================] - 10s 36ms/step - loss: 0.4992 - accuracy: 0.7389\n",
            "Epoch 8/10\n",
            "271/271 [==============================] - 10s 36ms/step - loss: 0.4721 - accuracy: 0.7537\n",
            "Epoch 9/10\n",
            "271/271 [==============================] - 10s 36ms/step - loss: 0.4467 - accuracy: 0.7692\n",
            "Epoch 10/10\n",
            "271/271 [==============================] - 10s 36ms/step - loss: 0.4263 - accuracy: 0.7811\n",
            "11/11 - 1s - loss: 0.8903 - accuracy: 0.6268\n",
            "351 1352\n",
            "Epoch 1/10\n",
            "277/277 [==============================] - 10s 36ms/step - loss: 0.6913 - accuracy: 0.6235\n",
            "Epoch 2/10\n",
            "277/277 [==============================] - 10s 36ms/step - loss: 0.6131 - accuracy: 0.6626\n",
            "Epoch 3/10\n",
            "277/277 [==============================] - 10s 37ms/step - loss: 0.5911 - accuracy: 0.6799\n",
            "Epoch 4/10\n",
            "277/277 [==============================] - 10s 36ms/step - loss: 0.5641 - accuracy: 0.7060\n",
            "Epoch 5/10\n",
            "277/277 [==============================] - 10s 36ms/step - loss: 0.5351 - accuracy: 0.7067\n",
            "Epoch 6/10\n",
            "277/277 [==============================] - 10s 36ms/step - loss: 0.5092 - accuracy: 0.7277\n",
            "Epoch 7/10\n",
            "277/277 [==============================] - 10s 36ms/step - loss: 0.4852 - accuracy: 0.7487\n",
            "Epoch 8/10\n",
            "277/277 [==============================] - 9s 34ms/step - loss: 0.4527 - accuracy: 0.7719\n",
            "Epoch 9/10\n",
            "277/277 [==============================] - 10s 35ms/step - loss: 0.4166 - accuracy: 0.8103\n",
            "Epoch 10/10\n",
            "277/277 [==============================] - 10s 35ms/step - loss: 0.4034 - accuracy: 0.8059\n",
            "11/11 - 0s - loss: 0.9902 - accuracy: 0.5683\n",
            "322 1381\n",
            "Epoch 1/10\n",
            "277/277 [==============================] - 12s 44ms/step - loss: 0.7104 - accuracy: 0.6198\n",
            "Epoch 2/10\n",
            "277/277 [==============================] - 11s 39ms/step - loss: 0.6178 - accuracy: 0.6633\n",
            "Epoch 3/10\n",
            "277/277 [==============================] - 9s 33ms/step - loss: 0.5947 - accuracy: 0.6640\n",
            "Epoch 4/10\n",
            "277/277 [==============================] - 9s 33ms/step - loss: 0.5747 - accuracy: 0.6734\n",
            "Epoch 5/10\n",
            "277/277 [==============================] - 9s 33ms/step - loss: 0.5559 - accuracy: 0.7002\n",
            "Epoch 6/10\n",
            "277/277 [==============================] - 9s 33ms/step - loss: 0.5246 - accuracy: 0.7205\n",
            "Epoch 7/10\n",
            "277/277 [==============================] - 9s 33ms/step - loss: 0.5114 - accuracy: 0.7176\n",
            "Epoch 8/10\n",
            "277/277 [==============================] - 9s 33ms/step - loss: 0.4901 - accuracy: 0.7314\n",
            "Epoch 9/10\n",
            "277/277 [==============================] - 9s 33ms/step - loss: 0.4691 - accuracy: 0.7451\n",
            "Epoch 10/10\n",
            "277/277 [==============================] - 9s 33ms/step - loss: 0.4539 - accuracy: 0.7625\n",
            "11/11 - 0s - loss: 0.8248 - accuracy: 0.6056\n",
            "322 1381\n",
            "Epoch 1/10\n",
            "271/271 [==============================] - 9s 33ms/step - loss: 0.6943 - accuracy: 0.6049\n",
            "Epoch 2/10\n",
            "271/271 [==============================] - 9s 33ms/step - loss: 0.6322 - accuracy: 0.6484\n",
            "Epoch 3/10\n",
            "271/271 [==============================] - 9s 33ms/step - loss: 0.6110 - accuracy: 0.6566\n",
            "Epoch 4/10\n",
            "271/271 [==============================] - 9s 33ms/step - loss: 0.5957 - accuracy: 0.6669\n",
            "Epoch 5/10\n",
            "271/271 [==============================] - 9s 33ms/step - loss: 0.5744 - accuracy: 0.6795\n",
            "Epoch 6/10\n",
            "271/271 [==============================] - 9s 33ms/step - loss: 0.5594 - accuracy: 0.6876\n",
            "Epoch 7/10\n",
            "271/271 [==============================] - 9s 32ms/step - loss: 0.5438 - accuracy: 0.7068\n",
            "Epoch 8/10\n",
            "271/271 [==============================] - 9s 32ms/step - loss: 0.5189 - accuracy: 0.7127\n",
            "Epoch 9/10\n",
            "271/271 [==============================] - 9s 33ms/step - loss: 0.5113 - accuracy: 0.7290\n",
            "Epoch 10/10\n",
            "271/271 [==============================] - 9s 33ms/step - loss: 0.4753 - accuracy: 0.7518\n",
            "11/11 - 0s - loss: 0.7934 - accuracy: 0.6132\n",
            "349 1354\n",
            "Epoch 1/10\n",
            "269/269 [==============================] - 9s 33ms/step - loss: 0.6785 - accuracy: 0.6262\n",
            "Epoch 2/10\n",
            "269/269 [==============================] - 9s 33ms/step - loss: 0.6190 - accuracy: 0.6530\n",
            "Epoch 3/10\n",
            "269/269 [==============================] - 9s 32ms/step - loss: 0.5882 - accuracy: 0.6687\n",
            "Epoch 4/10\n",
            "269/269 [==============================] - 9s 32ms/step - loss: 0.5709 - accuracy: 0.6828\n",
            "Epoch 5/10\n",
            "269/269 [==============================] - 9s 33ms/step - loss: 0.5506 - accuracy: 0.6992\n",
            "Epoch 6/10\n",
            "269/269 [==============================] - 9s 32ms/step - loss: 0.5345 - accuracy: 0.6962\n",
            "Epoch 7/10\n",
            "269/269 [==============================] - 9s 33ms/step - loss: 0.5088 - accuracy: 0.7223\n",
            "Epoch 8/10\n",
            "269/269 [==============================] - 9s 33ms/step - loss: 0.4970 - accuracy: 0.7267\n",
            "Epoch 9/10\n",
            "269/269 [==============================] - 9s 32ms/step - loss: 0.4743 - accuracy: 0.7491\n",
            "Epoch 10/10\n",
            "269/269 [==============================] - 9s 32ms/step - loss: 0.4565 - accuracy: 0.7625\n",
            "12/12 - 0s - loss: 0.8639 - accuracy: 0.6194\n",
            "360 1343\n",
            "Epoch 1/10\n",
            "275/275 [==============================] - 9s 32ms/step - loss: 0.6931 - accuracy: 0.6133\n",
            "Epoch 2/10\n",
            "275/275 [==============================] - 9s 33ms/step - loss: 0.6229 - accuracy: 0.6482\n",
            "Epoch 3/10\n",
            "275/275 [==============================] - 9s 33ms/step - loss: 0.5975 - accuracy: 0.6591\n",
            "Epoch 4/10\n",
            "275/275 [==============================] - 9s 32ms/step - loss: 0.5659 - accuracy: 0.6854\n",
            "Epoch 5/10\n",
            "275/275 [==============================] - 9s 33ms/step - loss: 0.5396 - accuracy: 0.6926\n",
            "Epoch 6/10\n",
            "275/275 [==============================] - 9s 32ms/step - loss: 0.5177 - accuracy: 0.7167\n",
            "Epoch 7/10\n",
            "275/275 [==============================] - 9s 33ms/step - loss: 0.5020 - accuracy: 0.7210\n",
            "Epoch 8/10\n",
            "275/275 [==============================] - 9s 32ms/step - loss: 0.4848 - accuracy: 0.7356\n",
            "Epoch 9/10\n",
            "275/275 [==============================] - 9s 33ms/step - loss: 0.4651 - accuracy: 0.7531\n",
            "Epoch 10/10\n",
            " 13/275 [>.............................] - ETA: 8s - loss: 0.4681 - accuracy: 0.7538"
          ],
          "name": "stdout"
        },
        {
          "output_type": "error",
          "ename": "KeyboardInterrupt",
          "evalue": "ignored",
          "traceback": [
            "\u001b[0;31m---------------------------------------------------------------------------\u001b[0m",
            "\u001b[0;31mKeyboardInterrupt\u001b[0m                         Traceback (most recent call last)",
            "\u001b[0;32m<ipython-input-18-89820245d778>\u001b[0m in \u001b[0;36m<module>\u001b[0;34m()\u001b[0m\n\u001b[1;32m     14\u001b[0m   \u001b[0mX_test\u001b[0m\u001b[0;34m,\u001b[0m \u001b[0my_test\u001b[0m\u001b[0;34m,\u001b[0m \u001b[0mwin_count_test\u001b[0m \u001b[0;34m=\u001b[0m \u001b[0mslice_MFCC\u001b[0m\u001b[0;34m(\u001b[0m\u001b[0mdata\u001b[0m\u001b[0;34m,\u001b[0m \u001b[0mX_te\u001b[0m\u001b[0;34m)\u001b[0m\u001b[0;34m\u001b[0m\u001b[0;34m\u001b[0m\u001b[0m\n\u001b[1;32m     15\u001b[0m \u001b[0;34m\u001b[0m\u001b[0m\n\u001b[0;32m---> 16\u001b[0;31m   \u001b[0mhistory\u001b[0m \u001b[0;34m=\u001b[0m \u001b[0mmodel\u001b[0m\u001b[0;34m.\u001b[0m\u001b[0mfit\u001b[0m\u001b[0;34m(\u001b[0m\u001b[0mnp\u001b[0m\u001b[0;34m.\u001b[0m\u001b[0marray\u001b[0m\u001b[0;34m(\u001b[0m\u001b[0mX_seg\u001b[0m\u001b[0;34m)\u001b[0m\u001b[0;34m,\u001b[0m \u001b[0mnp\u001b[0m\u001b[0;34m.\u001b[0m\u001b[0marray\u001b[0m\u001b[0;34m(\u001b[0m\u001b[0my_seg\u001b[0m\u001b[0;34m)\u001b[0m\u001b[0;34m,\u001b[0m  \u001b[0mbatch_size\u001b[0m\u001b[0;34m=\u001b[0m\u001b[0;36m5\u001b[0m\u001b[0;34m,\u001b[0m \u001b[0mepochs\u001b[0m\u001b[0;34m=\u001b[0m\u001b[0;36m10\u001b[0m\u001b[0;34m)\u001b[0m\u001b[0;34m\u001b[0m\u001b[0;34m\u001b[0m\u001b[0m\n\u001b[0m\u001b[1;32m     17\u001b[0m \u001b[0;34m\u001b[0m\u001b[0m\n\u001b[1;32m     18\u001b[0m   \u001b[0mtest_loss\u001b[0m\u001b[0;34m,\u001b[0m \u001b[0mtest_acc\u001b[0m \u001b[0;34m=\u001b[0m \u001b[0mmodel\u001b[0m\u001b[0;34m.\u001b[0m\u001b[0mevaluate\u001b[0m\u001b[0;34m(\u001b[0m\u001b[0mnp\u001b[0m\u001b[0;34m.\u001b[0m\u001b[0marray\u001b[0m\u001b[0;34m(\u001b[0m\u001b[0mX_test\u001b[0m\u001b[0;34m)\u001b[0m\u001b[0;34m,\u001b[0m \u001b[0mnp\u001b[0m\u001b[0;34m.\u001b[0m\u001b[0marray\u001b[0m\u001b[0;34m(\u001b[0m\u001b[0my_test\u001b[0m\u001b[0;34m)\u001b[0m\u001b[0;34m,\u001b[0m \u001b[0mverbose\u001b[0m\u001b[0;34m=\u001b[0m\u001b[0;36m2\u001b[0m\u001b[0;34m)\u001b[0m\u001b[0;34m\u001b[0m\u001b[0;34m\u001b[0m\u001b[0m\n",
            "\u001b[0;32m/usr/local/lib/python3.7/dist-packages/tensorflow/python/keras/engine/training.py\u001b[0m in \u001b[0;36mfit\u001b[0;34m(self, x, y, batch_size, epochs, verbose, callbacks, validation_split, validation_data, shuffle, class_weight, sample_weight, initial_epoch, steps_per_epoch, validation_steps, validation_batch_size, validation_freq, max_queue_size, workers, use_multiprocessing)\u001b[0m\n\u001b[1;32m   1098\u001b[0m                 _r=1):\n\u001b[1;32m   1099\u001b[0m               \u001b[0mcallbacks\u001b[0m\u001b[0;34m.\u001b[0m\u001b[0mon_train_batch_begin\u001b[0m\u001b[0;34m(\u001b[0m\u001b[0mstep\u001b[0m\u001b[0;34m)\u001b[0m\u001b[0;34m\u001b[0m\u001b[0;34m\u001b[0m\u001b[0m\n\u001b[0;32m-> 1100\u001b[0;31m               \u001b[0mtmp_logs\u001b[0m \u001b[0;34m=\u001b[0m \u001b[0mself\u001b[0m\u001b[0;34m.\u001b[0m\u001b[0mtrain_function\u001b[0m\u001b[0;34m(\u001b[0m\u001b[0miterator\u001b[0m\u001b[0;34m)\u001b[0m\u001b[0;34m\u001b[0m\u001b[0;34m\u001b[0m\u001b[0m\n\u001b[0m\u001b[1;32m   1101\u001b[0m               \u001b[0;32mif\u001b[0m \u001b[0mdata_handler\u001b[0m\u001b[0;34m.\u001b[0m\u001b[0mshould_sync\u001b[0m\u001b[0;34m:\u001b[0m\u001b[0;34m\u001b[0m\u001b[0;34m\u001b[0m\u001b[0m\n\u001b[1;32m   1102\u001b[0m                 \u001b[0mcontext\u001b[0m\u001b[0;34m.\u001b[0m\u001b[0masync_wait\u001b[0m\u001b[0;34m(\u001b[0m\u001b[0;34m)\u001b[0m\u001b[0;34m\u001b[0m\u001b[0;34m\u001b[0m\u001b[0m\n",
            "\u001b[0;32m/usr/local/lib/python3.7/dist-packages/tensorflow/python/eager/def_function.py\u001b[0m in \u001b[0;36m__call__\u001b[0;34m(self, *args, **kwds)\u001b[0m\n\u001b[1;32m    826\u001b[0m     \u001b[0mtracing_count\u001b[0m \u001b[0;34m=\u001b[0m \u001b[0mself\u001b[0m\u001b[0;34m.\u001b[0m\u001b[0mexperimental_get_tracing_count\u001b[0m\u001b[0;34m(\u001b[0m\u001b[0;34m)\u001b[0m\u001b[0;34m\u001b[0m\u001b[0;34m\u001b[0m\u001b[0m\n\u001b[1;32m    827\u001b[0m     \u001b[0;32mwith\u001b[0m \u001b[0mtrace\u001b[0m\u001b[0;34m.\u001b[0m\u001b[0mTrace\u001b[0m\u001b[0;34m(\u001b[0m\u001b[0mself\u001b[0m\u001b[0;34m.\u001b[0m\u001b[0m_name\u001b[0m\u001b[0;34m)\u001b[0m \u001b[0;32mas\u001b[0m \u001b[0mtm\u001b[0m\u001b[0;34m:\u001b[0m\u001b[0;34m\u001b[0m\u001b[0;34m\u001b[0m\u001b[0m\n\u001b[0;32m--> 828\u001b[0;31m       \u001b[0mresult\u001b[0m \u001b[0;34m=\u001b[0m \u001b[0mself\u001b[0m\u001b[0;34m.\u001b[0m\u001b[0m_call\u001b[0m\u001b[0;34m(\u001b[0m\u001b[0;34m*\u001b[0m\u001b[0margs\u001b[0m\u001b[0;34m,\u001b[0m \u001b[0;34m**\u001b[0m\u001b[0mkwds\u001b[0m\u001b[0;34m)\u001b[0m\u001b[0;34m\u001b[0m\u001b[0;34m\u001b[0m\u001b[0m\n\u001b[0m\u001b[1;32m    829\u001b[0m       \u001b[0mcompiler\u001b[0m \u001b[0;34m=\u001b[0m \u001b[0;34m\"xla\"\u001b[0m \u001b[0;32mif\u001b[0m \u001b[0mself\u001b[0m\u001b[0;34m.\u001b[0m\u001b[0m_experimental_compile\u001b[0m \u001b[0;32melse\u001b[0m \u001b[0;34m\"nonXla\"\u001b[0m\u001b[0;34m\u001b[0m\u001b[0;34m\u001b[0m\u001b[0m\n\u001b[1;32m    830\u001b[0m       \u001b[0mnew_tracing_count\u001b[0m \u001b[0;34m=\u001b[0m \u001b[0mself\u001b[0m\u001b[0;34m.\u001b[0m\u001b[0mexperimental_get_tracing_count\u001b[0m\u001b[0;34m(\u001b[0m\u001b[0;34m)\u001b[0m\u001b[0;34m\u001b[0m\u001b[0;34m\u001b[0m\u001b[0m\n",
            "\u001b[0;32m/usr/local/lib/python3.7/dist-packages/tensorflow/python/eager/def_function.py\u001b[0m in \u001b[0;36m_call\u001b[0;34m(self, *args, **kwds)\u001b[0m\n\u001b[1;32m    860\u001b[0m       \u001b[0;31m# In this case we have not created variables on the first call. So we can\u001b[0m\u001b[0;34m\u001b[0m\u001b[0;34m\u001b[0m\u001b[0;34m\u001b[0m\u001b[0m\n\u001b[1;32m    861\u001b[0m       \u001b[0;31m# run the first trace but we should fail if variables are created.\u001b[0m\u001b[0;34m\u001b[0m\u001b[0;34m\u001b[0m\u001b[0;34m\u001b[0m\u001b[0m\n\u001b[0;32m--> 862\u001b[0;31m       \u001b[0mresults\u001b[0m \u001b[0;34m=\u001b[0m \u001b[0mself\u001b[0m\u001b[0;34m.\u001b[0m\u001b[0m_stateful_fn\u001b[0m\u001b[0;34m(\u001b[0m\u001b[0;34m*\u001b[0m\u001b[0margs\u001b[0m\u001b[0;34m,\u001b[0m \u001b[0;34m**\u001b[0m\u001b[0mkwds\u001b[0m\u001b[0;34m)\u001b[0m\u001b[0;34m\u001b[0m\u001b[0;34m\u001b[0m\u001b[0m\n\u001b[0m\u001b[1;32m    863\u001b[0m       \u001b[0;32mif\u001b[0m \u001b[0mself\u001b[0m\u001b[0;34m.\u001b[0m\u001b[0m_created_variables\u001b[0m\u001b[0;34m:\u001b[0m\u001b[0;34m\u001b[0m\u001b[0;34m\u001b[0m\u001b[0m\n\u001b[1;32m    864\u001b[0m         raise ValueError(\"Creating variables on a non-first call to a function\"\n",
            "\u001b[0;32m/usr/local/lib/python3.7/dist-packages/tensorflow/python/eager/function.py\u001b[0m in \u001b[0;36m__call__\u001b[0;34m(self, *args, **kwargs)\u001b[0m\n\u001b[1;32m   2941\u001b[0m        filtered_flat_args) = self._maybe_define_function(args, kwargs)\n\u001b[1;32m   2942\u001b[0m     return graph_function._call_flat(\n\u001b[0;32m-> 2943\u001b[0;31m         filtered_flat_args, captured_inputs=graph_function.captured_inputs)  # pylint: disable=protected-access\n\u001b[0m\u001b[1;32m   2944\u001b[0m \u001b[0;34m\u001b[0m\u001b[0m\n\u001b[1;32m   2945\u001b[0m   \u001b[0;34m@\u001b[0m\u001b[0mproperty\u001b[0m\u001b[0;34m\u001b[0m\u001b[0;34m\u001b[0m\u001b[0m\n",
            "\u001b[0;32m/usr/local/lib/python3.7/dist-packages/tensorflow/python/eager/function.py\u001b[0m in \u001b[0;36m_call_flat\u001b[0;34m(self, args, captured_inputs, cancellation_manager)\u001b[0m\n\u001b[1;32m   1917\u001b[0m       \u001b[0;31m# No tape is watching; skip to running the function.\u001b[0m\u001b[0;34m\u001b[0m\u001b[0;34m\u001b[0m\u001b[0;34m\u001b[0m\u001b[0m\n\u001b[1;32m   1918\u001b[0m       return self._build_call_outputs(self._inference_function.call(\n\u001b[0;32m-> 1919\u001b[0;31m           ctx, args, cancellation_manager=cancellation_manager))\n\u001b[0m\u001b[1;32m   1920\u001b[0m     forward_backward = self._select_forward_and_backward_functions(\n\u001b[1;32m   1921\u001b[0m         \u001b[0margs\u001b[0m\u001b[0;34m,\u001b[0m\u001b[0;34m\u001b[0m\u001b[0;34m\u001b[0m\u001b[0m\n",
            "\u001b[0;32m/usr/local/lib/python3.7/dist-packages/tensorflow/python/eager/function.py\u001b[0m in \u001b[0;36mcall\u001b[0;34m(self, ctx, args, cancellation_manager)\u001b[0m\n\u001b[1;32m    558\u001b[0m               \u001b[0minputs\u001b[0m\u001b[0;34m=\u001b[0m\u001b[0margs\u001b[0m\u001b[0;34m,\u001b[0m\u001b[0;34m\u001b[0m\u001b[0;34m\u001b[0m\u001b[0m\n\u001b[1;32m    559\u001b[0m               \u001b[0mattrs\u001b[0m\u001b[0;34m=\u001b[0m\u001b[0mattrs\u001b[0m\u001b[0;34m,\u001b[0m\u001b[0;34m\u001b[0m\u001b[0;34m\u001b[0m\u001b[0m\n\u001b[0;32m--> 560\u001b[0;31m               ctx=ctx)\n\u001b[0m\u001b[1;32m    561\u001b[0m         \u001b[0;32melse\u001b[0m\u001b[0;34m:\u001b[0m\u001b[0;34m\u001b[0m\u001b[0;34m\u001b[0m\u001b[0m\n\u001b[1;32m    562\u001b[0m           outputs = execute.execute_with_cancellation(\n",
            "\u001b[0;32m/usr/local/lib/python3.7/dist-packages/tensorflow/python/eager/execute.py\u001b[0m in \u001b[0;36mquick_execute\u001b[0;34m(op_name, num_outputs, inputs, attrs, ctx, name)\u001b[0m\n\u001b[1;32m     58\u001b[0m     \u001b[0mctx\u001b[0m\u001b[0;34m.\u001b[0m\u001b[0mensure_initialized\u001b[0m\u001b[0;34m(\u001b[0m\u001b[0;34m)\u001b[0m\u001b[0;34m\u001b[0m\u001b[0;34m\u001b[0m\u001b[0m\n\u001b[1;32m     59\u001b[0m     tensors = pywrap_tfe.TFE_Py_Execute(ctx._handle, device_name, op_name,\n\u001b[0;32m---> 60\u001b[0;31m                                         inputs, attrs, num_outputs)\n\u001b[0m\u001b[1;32m     61\u001b[0m   \u001b[0;32mexcept\u001b[0m \u001b[0mcore\u001b[0m\u001b[0;34m.\u001b[0m\u001b[0m_NotOkStatusException\u001b[0m \u001b[0;32mas\u001b[0m \u001b[0me\u001b[0m\u001b[0;34m:\u001b[0m\u001b[0;34m\u001b[0m\u001b[0;34m\u001b[0m\u001b[0m\n\u001b[1;32m     62\u001b[0m     \u001b[0;32mif\u001b[0m \u001b[0mname\u001b[0m \u001b[0;32mis\u001b[0m \u001b[0;32mnot\u001b[0m \u001b[0;32mNone\u001b[0m\u001b[0;34m:\u001b[0m\u001b[0;34m\u001b[0m\u001b[0;34m\u001b[0m\u001b[0m\n",
            "\u001b[0;31mKeyboardInterrupt\u001b[0m: "
          ]
        }
      ]
    },
    {
      "cell_type": "code",
      "metadata": {
        "id": "hr8fyhHr5lrY"
      },
      "source": [
        "import matplotlib.pyplot as plt\n",
        "fig = plt.figure()\n",
        "ax = fig.add_axes([0,0,1,1])\n",
        "ax.bar([j for j in range(10)] , F1, color = 'b', width = 0.25)\n",
        "ax.bar([j+0.25 for j in range(10)] , TA, color = 'g', width = 0.25)\n",
        "plt.show()"
      ],
      "execution_count": null,
      "outputs": []
    },
    {
      "cell_type": "code",
      "metadata": {
        "id": "X4iNOKD27Bqe"
      },
      "source": [
        "II"
      ],
      "execution_count": null,
      "outputs": []
    },
    {
      "cell_type": "code",
      "metadata": {
        "id": "-94Ugenuj__T"
      },
      "source": [
        "for i in range(10):\n",
        "  print(TA[i], F1[i], CM[i])"
      ],
      "execution_count": null,
      "outputs": []
    },
    {
      "cell_type": "markdown",
      "metadata": {
        "id": "549wiKg5d8lh"
      },
      "source": [
        "### Feature Conversion"
      ]
    },
    {
      "cell_type": "code",
      "metadata": {
        "colab": {
          "base_uri": "https://localhost:8080/"
        },
        "id": "UhmTCR_rehfa",
        "outputId": "cb3cb9b4-cf69-4c3a-be41-a8f1690679ca"
      },
      "source": [
        "matrix_size = model.layers[-2].output.shape[1]\n",
        "print(matrix_size)\n",
        "new_model = Model(model.inputs, model.layers[-2].output)"
      ],
      "execution_count": null,
      "outputs": [
        {
          "output_type": "stream",
          "text": [
            "64\n"
          ],
          "name": "stdout"
        }
      ]
    },
    {
      "cell_type": "code",
      "metadata": {
        "colab": {
          "base_uri": "https://localhost:8080/"
        },
        "id": "ajyT9jhFe2DB",
        "outputId": "85c2174b-57ca-4cbe-e4df-fe9700a437c3"
      },
      "source": [
        "(new_model.predict(np.array(X_test)[:1]))"
      ],
      "execution_count": null,
      "outputs": [
        {
          "output_type": "execute_result",
          "data": {
            "text/plain": [
              "array([[0.        , 0.12855256, 0.        , 0.43094003, 0.79551524,\n",
              "        0.8290689 , 1.0363905 , 0.        , 1.2199714 , 0.        ,\n",
              "        0.        , 0.        , 0.20833789, 0.        , 0.        ,\n",
              "        0.        , 0.16885601, 0.        , 0.9716392 , 0.64020914,\n",
              "        0.        , 0.08212314, 0.        , 0.5561128 , 0.45482635,\n",
              "        0.        , 0.08716213, 0.        , 0.        , 0.6190659 ,\n",
              "        0.0805793 , 0.        , 1.3854859 , 0.        , 0.        ,\n",
              "        0.        , 1.3304223 , 0.68982404, 0.475102  , 0.19912429,\n",
              "        1.078324  , 0.        , 0.02208611, 1.3275652 , 0.        ,\n",
              "        1.0927919 , 0.01053949, 0.77340204, 0.        , 0.        ,\n",
              "        0.        , 1.038279  , 0.8971938 , 0.        , 0.        ,\n",
              "        1.4659464 , 0.68385196, 0.76231766, 0.        , 0.        ,\n",
              "        0.        , 1.7066183 , 0.        , 0.333365  ]], dtype=float32)"
            ]
          },
          "metadata": {
            "tags": []
          },
          "execution_count": 16
        }
      ]
    },
    {
      "cell_type": "code",
      "metadata": {
        "id": "S72vnFJVfTPx"
      },
      "source": [
        "matrix_size = model.layers[-2].output.shape[1]\n",
        "new_model = Model(model.inputs, model.layers[-2].output)\n",
        "lT = new_model.predict(np.array(X_seg))\n",
        "lt = new_model.predict(np.array(X_test))"
      ],
      "execution_count": null,
      "outputs": []
    },
    {
      "cell_type": "code",
      "metadata": {
        "colab": {
          "base_uri": "https://localhost:8080/"
        },
        "id": "-7uGr0fMkCdQ",
        "outputId": "0c9e99b4-c1f0-476d-84b2-f10fe52a3d49"
      },
      "source": [
        "new_out_train = []\n",
        "new_y_train = []\n",
        "j = 0\n",
        "for i in win_count_train:\n",
        "  new_out_train.append(np.mean(np.array(lT[j:j+i]), axis=0))\n",
        "  j += i\n",
        "  new_y_train.append(1)\n",
        "\n",
        "new_out_test = []\n",
        "j = 0\n",
        "for i in win_count_test:\n",
        "  new_out_test.append(np.mean(np.array(lt[j:j+i]), axis=0))\n",
        "  j += i"
      ],
      "execution_count": null,
      "outputs": [
        {
          "output_type": "stream",
          "text": [
            "/usr/local/lib/python3.7/dist-packages/numpy/core/fromnumeric.py:3373: RuntimeWarning: Mean of empty slice.\n",
            "  out=out, **kwargs)\n",
            "/usr/local/lib/python3.7/dist-packages/numpy/core/_methods.py:163: RuntimeWarning: invalid value encountered in true_divide\n",
            "  ret, rcount, out=ret, casting='unsafe', subok=False)\n"
          ],
          "name": "stderr"
        }
      ]
    },
    {
      "cell_type": "code",
      "metadata": {
        "id": "J3BHs1RAgW4L"
      },
      "source": [
        "train_X_sarc = new_out_train+new_out_test\n",
        "train_y_sarc = [1 for i in range(len(train_X_sarc))]"
      ],
      "execution_count": null,
      "outputs": []
    },
    {
      "cell_type": "markdown",
      "metadata": {
        "id": "v6k1vpJkqdjj"
      },
      "source": [
        "## for non sarc"
      ]
    },
    {
      "cell_type": "code",
      "metadata": {
        "colab": {
          "base_uri": "https://localhost:8080/"
        },
        "id": "kREB3erVkfhP",
        "outputId": "2df21042-36b1-4b83-b9b8-cd544b0d7e15"
      },
      "source": [
        "X_ns = create_MFCC(data_non_sarc)\n",
        "\n",
        "X_seg_ns, y_seg_ns, win_count_train_ns = slice_MFCC(data_non_sarc, X_ns)"
      ],
      "execution_count": null,
      "outputs": [
        {
          "output_type": "stream",
          "text": [
            "0\n",
            "1\n",
            "2\n",
            "3\n",
            "4\n",
            "5\n",
            "6\n",
            "7\n",
            "8\n",
            "9\n",
            "10\n",
            "11\n",
            "12\n",
            "13\n",
            "14\n",
            "15\n",
            "16\n",
            "17\n",
            "18\n",
            "19\n",
            "20\n",
            "21\n",
            "22\n",
            "23\n",
            "24\n",
            "25\n",
            "26\n",
            "27\n",
            "28\n",
            "29\n",
            "30\n",
            "31\n",
            "32\n",
            "33\n"
          ],
          "name": "stdout"
        }
      ]
    },
    {
      "cell_type": "code",
      "metadata": {
        "id": "uKNtMYgrF4ju"
      },
      "source": [
        "lT_ns = new_model.predict(np.array(X_seg_ns))"
      ],
      "execution_count": null,
      "outputs": []
    },
    {
      "cell_type": "code",
      "metadata": {
        "colab": {
          "base_uri": "https://localhost:8080/"
        },
        "id": "7KN6WldthD8j",
        "outputId": "656cba89-ef7d-4c2f-ab47-3a98c35ca1db"
      },
      "source": [
        "new_out_ns = []\n",
        "j = 0\n",
        "for i in win_count_train_ns:\n",
        "  new_out_ns.append(np.mean(np.array(lT_ns[j:j+i]), axis=0))\n",
        "  j += i"
      ],
      "execution_count": null,
      "outputs": [
        {
          "output_type": "stream",
          "text": [
            "/usr/local/lib/python3.7/dist-packages/numpy/core/fromnumeric.py:3373: RuntimeWarning: Mean of empty slice.\n",
            "  out=out, **kwargs)\n",
            "/usr/local/lib/python3.7/dist-packages/numpy/core/_methods.py:163: RuntimeWarning: invalid value encountered in true_divide\n",
            "  ret, rcount, out=ret, casting='unsafe', subok=False)\n"
          ],
          "name": "stderr"
        }
      ]
    },
    {
      "cell_type": "code",
      "metadata": {
        "id": "gc9trtPBhUhg"
      },
      "source": [
        "train_X_non_sarc = new_out_ns\n",
        "train_y_non_sarc = [0 for i in range(len(train_X_non_sarc))]"
      ],
      "execution_count": null,
      "outputs": []
    },
    {
      "cell_type": "markdown",
      "metadata": {
        "id": "PljnqlBuicdg"
      },
      "source": [
        "## Final input for multimodel"
      ]
    },
    {
      "cell_type": "code",
      "metadata": {
        "id": "bfo5hegTihQ9"
      },
      "source": [
        "X_audio = train_X_sarc+train_X_non_sarc\n",
        "y_audio = train_y_sarc+train_y_non_sarc"
      ],
      "execution_count": null,
      "outputs": []
    },
    {
      "cell_type": "markdown",
      "metadata": {
        "id": "zyCpFMciOewU"
      },
      "source": [
        "# Text"
      ]
    },
    {
      "cell_type": "code",
      "metadata": {
        "id": "T5edDqiNO0kx"
      },
      "source": [
        "text = []\n",
        "out = []"
      ],
      "execution_count": null,
      "outputs": []
    },
    {
      "cell_type": "code",
      "metadata": {
        "id": "lvjBg2QXjPmA"
      },
      "source": [
        "d = {True:1, False:0}\n",
        "for i in data['name']:\n",
        "  text.append(data_text[i]['utterance'])\n",
        "  out.append(d[data_text[i]['sarcasm']])\n",
        "\n",
        "for i in data_non_sarc['name']:\n",
        "  text.append(data_text[i]['utterance'])\n",
        "  out.append(d[data_text[i]['sarcasm']])"
      ],
      "execution_count": null,
      "outputs": []
    },
    {
      "cell_type": "code",
      "metadata": {
        "colab": {
          "base_uri": "https://localhost:8080/"
        },
        "id": "bCC32YiMPF85",
        "outputId": "51a7da26-9bd9-40ba-c12d-c34a9383cddc"
      },
      "source": [
        "t = Tokenizer()\n",
        "t.fit_on_texts(text)\n",
        "vocab_size = len(t.word_index) + 1\n",
        "print(vocab_size)"
      ],
      "execution_count": null,
      "outputs": [
        {
          "output_type": "stream",
          "text": [
            "2036\n"
          ],
          "name": "stdout"
        }
      ]
    },
    {
      "cell_type": "code",
      "metadata": {
        "id": "9-JcyTjcQ_la"
      },
      "source": [
        "train = t.texts_to_sequences(text)"
      ],
      "execution_count": null,
      "outputs": []
    },
    {
      "cell_type": "code",
      "metadata": {
        "id": "DEjVGhCkRSSy"
      },
      "source": [
        "lengths = []\n",
        "\n",
        "for doc in train:\n",
        "    lengths.append(len(doc))"
      ],
      "execution_count": null,
      "outputs": []
    },
    {
      "cell_type": "code",
      "metadata": {
        "colab": {
          "base_uri": "https://localhost:8080/"
        },
        "id": "LpxyEURqRW01",
        "outputId": "f1a71d70-964e-4b39-9af2-e6a39fd95bc1"
      },
      "source": [
        "np.percentile(lengths, 99.9)"
      ],
      "execution_count": null,
      "outputs": [
        {
          "output_type": "execute_result",
          "data": {
            "text/plain": [
              "56.04300000000046"
            ]
          },
          "metadata": {
            "tags": []
          },
          "execution_count": 83
        }
      ]
    },
    {
      "cell_type": "code",
      "metadata": {
        "id": "frjJhSBHRdbS"
      },
      "source": [
        "max_length = 60\n",
        "padded_comments_train = pad_sequences(train, maxlen=max_length, padding='post')"
      ],
      "execution_count": null,
      "outputs": []
    },
    {
      "cell_type": "code",
      "metadata": {
        "id": "zXjxnpZbR1ap"
      },
      "source": [
        "y_train = to_categorical(out, num_classes=2)"
      ],
      "execution_count": null,
      "outputs": []
    },
    {
      "cell_type": "code",
      "metadata": {
        "id": "BjTld3tBjZ0J"
      },
      "source": [
        "X_train, X_test, y_train, y_test = train_test_split(padded_comments_train, y_train, test_size=0.2, random_state=42) # rand= 15"
      ],
      "execution_count": null,
      "outputs": []
    },
    {
      "cell_type": "code",
      "metadata": {
        "id": "-ZJ4eb_YSBN6"
      },
      "source": [
        "w2v_model = KeyedVectors.load_word2vec_format('/content/drive/MyDrive/Sarcasm/Dataset/GoogleNews-vectors-negative300.bin.gz', binary=True)"
      ],
      "execution_count": null,
      "outputs": []
    },
    {
      "cell_type": "code",
      "metadata": {
        "colab": {
          "base_uri": "https://localhost:8080/"
        },
        "id": "XyHOO6tsSQnL",
        "outputId": "a82e1539-fb2e-4ee0-a872-f0d1a324957f"
      },
      "source": [
        "# create a weight matrix for words in training docs\n",
        "embedding_matrix_w2v = np.zeros((vocab_size, 300))\n",
        "for word, i in t.word_index.items():\n",
        "    try:\n",
        "        embedding_vector = w2v_model[word]\n",
        "    except:\n",
        "        embedding_vector = [0]*300\n",
        "    \n",
        "    if embedding_vector is not None:\n",
        "        embedding_matrix_w2v[i] = embedding_vector\n",
        "        \n",
        "embedding_matrix_w2v.shape"
      ],
      "execution_count": null,
      "outputs": [
        {
          "output_type": "execute_result",
          "data": {
            "text/plain": [
              "(2036, 300)"
            ]
          },
          "metadata": {
            "tags": []
          },
          "execution_count": 88
        }
      ]
    },
    {
      "cell_type": "code",
      "metadata": {
        "id": "XOAjDXWbVZV8"
      },
      "source": [
        "def recall_m(y_true, y_pred):\n",
        "        true_positives = K.sum(K.round(K.clip(y_true * y_pred, 0, 1)))\n",
        "        possible_positives = K.sum(K.round(K.clip(y_true, 0, 1)))\n",
        "        recall = true_positives / (possible_positives + K.epsilon())\n",
        "        return recall\n",
        "\n",
        "def precision_m(y_true, y_pred):\n",
        "        true_positives = K.sum(K.round(K.clip(y_true * y_pred, 0, 1)))\n",
        "        predicted_positives = K.sum(K.round(K.clip(y_pred, 0, 1)))\n",
        "        precision = true_positives / (predicted_positives + K.epsilon())\n",
        "        return precision\n",
        "\n",
        "def f1_m(y_true, y_pred):\n",
        "    precision = precision_m(y_true, y_pred)\n",
        "    recall = recall_m(y_true, y_pred)\n",
        "    return 2*((precision*recall)/(precision+recall+K.epsilon()))"
      ],
      "execution_count": null,
      "outputs": []
    },
    {
      "cell_type": "markdown",
      "metadata": {
        "id": "Zc1YMO34Wgkc"
      },
      "source": [
        "### Model 1"
      ]
    },
    {
      "cell_type": "code",
      "metadata": {
        "id": "nQuct9M72W-B"
      },
      "source": [
        "from keras.layers import Dense, Flatten, Dropout, LSTM, Bidirectional, Conv1D, MaxPooling1D "
      ],
      "execution_count": null,
      "outputs": []
    },
    {
      "cell_type": "code",
      "metadata": {
        "colab": {
          "base_uri": "https://localhost:8080/"
        },
        "id": "5yRzjlSBWiRM",
        "outputId": "8543586e-59af-4850-9a47-2c2fd763331c"
      },
      "source": [
        "input_data = Input(shape=(max_length,), name='main_input')\n",
        "embedding_layer = Embedding(vocab_size, 300, weights=[embedding_matrix_w2v], trainable=False)(input_data)\n",
        "conv_1 = Conv1D(filters=50, kernel_size=4, activation='relu')(embedding_layer)\n",
        "max_1 = MaxPooling1D(pool_size=2)(conv_1)\n",
        "conv_2 = Conv1D(filters=100, kernel_size=3, activation='relu')(max_1)\n",
        "max_2 = MaxPooling1D(pool_size=2)(conv_2)\n",
        "\n",
        "lstm_layer = Bidirectional(LSTM(128,return_sequences=True))(max_2)\n",
        "\n",
        "flatten = Flatten()(lstm_layer)\n",
        "dense = Dense(100, activation='relu', name='fully_connected')(flatten)\n",
        "out = Dense(2, activation='softmax')(dense)\n",
        "\n",
        "model_01 = Model(inputs=[input_data], outputs=[out])\n",
        "\n",
        "print(model_01.summary())"
      ],
      "execution_count": null,
      "outputs": [
        {
          "output_type": "stream",
          "text": [
            "Model: \"model_6\"\n",
            "_________________________________________________________________\n",
            "Layer (type)                 Output Shape              Param #   \n",
            "=================================================================\n",
            "main_input (InputLayer)      [(None, 60)]              0         \n",
            "_________________________________________________________________\n",
            "embedding_3 (Embedding)      (None, 60, 300)           610800    \n",
            "_________________________________________________________________\n",
            "conv1d_6 (Conv1D)            (None, 57, 50)            60050     \n",
            "_________________________________________________________________\n",
            "max_pooling1d_6 (MaxPooling1 (None, 28, 50)            0         \n",
            "_________________________________________________________________\n",
            "conv1d_7 (Conv1D)            (None, 26, 100)           15100     \n",
            "_________________________________________________________________\n",
            "max_pooling1d_7 (MaxPooling1 (None, 13, 100)           0         \n",
            "_________________________________________________________________\n",
            "bidirectional_3 (Bidirection (None, 13, 256)           234496    \n",
            "_________________________________________________________________\n",
            "flatten_3 (Flatten)          (None, 3328)              0         \n",
            "_________________________________________________________________\n",
            "fully_connected (Dense)      (None, 100)               332900    \n",
            "_________________________________________________________________\n",
            "dense_3 (Dense)              (None, 2)                 202       \n",
            "=================================================================\n",
            "Total params: 1,253,548\n",
            "Trainable params: 642,748\n",
            "Non-trainable params: 610,800\n",
            "_________________________________________________________________\n",
            "None\n"
          ],
          "name": "stdout"
        }
      ]
    },
    {
      "cell_type": "code",
      "metadata": {
        "id": "wZ-35-N2Wo27",
        "colab": {
          "base_uri": "https://localhost:8080/"
        },
        "outputId": "c164f4fb-4713-4b5a-9350-1c9a45489e85"
      },
      "source": [
        "c = optimizers.Adam(lr = 0.0001)\n",
        "model_01.compile(optimizer=c, loss='categorical_crossentropy', metrics=[f1_m, 'acc'])\n",
        "\n",
        "h1 = model_01.fit(X_train, y_train,  batch_size=64, epochs=5, verbose=1)"
      ],
      "execution_count": null,
      "outputs": [
        {
          "output_type": "stream",
          "text": [
            "Epoch 1/5\n",
            "9/9 [==============================] - 5s 100ms/step - loss: 0.6933 - f1_m: 0.5166 - acc: 0.5201\n",
            "Epoch 2/5\n",
            "9/9 [==============================] - 1s 101ms/step - loss: 0.6916 - f1_m: 0.5474 - acc: 0.5476\n",
            "Epoch 3/5\n",
            "9/9 [==============================] - 1s 99ms/step - loss: 0.6905 - f1_m: 0.5479 - acc: 0.5476\n",
            "Epoch 4/5\n",
            "9/9 [==============================] - 1s 99ms/step - loss: 0.6857 - f1_m: 0.5799 - acc: 0.5807\n",
            "Epoch 5/5\n",
            "9/9 [==============================] - 1s 98ms/step - loss: 0.6843 - f1_m: 0.5847 - acc: 0.5833\n"
          ],
          "name": "stdout"
        }
      ]
    },
    {
      "cell_type": "code",
      "metadata": {
        "colab": {
          "base_uri": "https://localhost:8080/"
        },
        "id": "MO9fdm3aWsNb",
        "outputId": "f11e2414-fa71-4d20-cf04-7da89cafafd9"
      },
      "source": [
        "score_1 = model_01.evaluate(X_test, y_test)\n",
        "score_1"
      ],
      "execution_count": null,
      "outputs": [
        {
          "output_type": "stream",
          "text": [
            "5/5 [==============================] - 1s 17ms/step - loss: 0.6812 - f1_m: 0.6412 - acc: 0.6159\n"
          ],
          "name": "stdout"
        },
        {
          "output_type": "execute_result",
          "data": {
            "text/plain": [
              "[0.681247353553772, 0.64124995470047, 0.6159420013427734]"
            ]
          },
          "metadata": {
            "tags": []
          },
          "execution_count": 93
        }
      ]
    },
    {
      "cell_type": "code",
      "metadata": {
        "colab": {
          "base_uri": "https://localhost:8080/"
        },
        "id": "2-OoXDIGi_v0",
        "outputId": "fb67d5ee-00e1-4acf-aefb-a94a98d5d090"
      },
      "source": [
        "y_pred = model_01.predict(X_test)\n",
        "y_true = y_test\n",
        "print(recall_m(y_true, y_pred), precision_m(y_true, y_pred), f1_m(y_true, y_pred))"
      ],
      "execution_count": null,
      "outputs": [
        {
          "output_type": "stream",
          "text": [
            "tf.Tensor(0.615942, shape=(), dtype=float32) tf.Tensor(0.615942, shape=(), dtype=float32) tf.Tensor(0.61594194, shape=(), dtype=float32)\n"
          ],
          "name": "stdout"
        }
      ]
    },
    {
      "cell_type": "code",
      "metadata": {
        "id": "1wEVEVq5QTrT"
      },
      "source": [
        "yyp = []\n",
        "for i in y_pred:\n",
        "  if(i[0]>i[1]):\n",
        "    yyp.append(0)\n",
        "  else:\n",
        "    yyp.append(1)\n",
        "\n",
        "yy = []\n",
        "for i in y_true:\n",
        "  if(i[0]>i[1]):\n",
        "    yy.append(0)\n",
        "  else:\n",
        "    yy.append(1)"
      ],
      "execution_count": null,
      "outputs": []
    },
    {
      "cell_type": "code",
      "metadata": {
        "id": "HJcmnO4ZNSBT",
        "colab": {
          "base_uri": "https://localhost:8080/"
        },
        "outputId": "3173f993-2bac-4163-c1bb-760b61884be9"
      },
      "source": [
        "precision_score(yy, yyp), recall_score(yy, yyp), f1_score(yy, yyp), accuracy_score(yy, yyp)"
      ],
      "execution_count": null,
      "outputs": [
        {
          "output_type": "execute_result",
          "data": {
            "text/plain": [
              "(0.675, 0.6666666666666666, 0.670807453416149, 0.6159420289855072)"
            ]
          },
          "metadata": {
            "tags": []
          },
          "execution_count": 97
        }
      ]
    },
    {
      "cell_type": "code",
      "metadata": {
        "id": "h1b1eWXylJ84"
      },
      "source": [
        "y = []\n",
        "Y = []\n",
        "for i in range(len(y_test)):\n",
        "  if(y_test[i][0] >= y_test[i][1]):\n",
        "    Y.append(0)\n",
        "  else:\n",
        "    Y.append(1)\n",
        "  if(y_pred[i][0] >= y_pred[i][1]):\n",
        "    y.append(0)\n",
        "  else:\n",
        "    y.append(1)"
      ],
      "execution_count": null,
      "outputs": []
    },
    {
      "cell_type": "code",
      "metadata": {
        "colab": {
          "base_uri": "https://localhost:8080/"
        },
        "id": "PctNjHQvk9nK",
        "outputId": "138aa195-b03b-48c3-8a20-0f0e9e765c41"
      },
      "source": [
        "confusion_matrix(Y, y)"
      ],
      "execution_count": null,
      "outputs": [
        {
          "output_type": "execute_result",
          "data": {
            "text/plain": [
              "array([[31, 26],\n",
              "       [27, 54]])"
            ]
          },
          "metadata": {
            "tags": []
          },
          "execution_count": 99
        }
      ]
    },
    {
      "cell_type": "markdown",
      "metadata": {
        "id": "28_iIYupoNt4"
      },
      "source": [
        "## Feature Conversion"
      ]
    },
    {
      "cell_type": "code",
      "metadata": {
        "colab": {
          "base_uri": "https://localhost:8080/"
        },
        "id": "k4rcsmH0oQPI",
        "outputId": "fa07f7e2-db8c-4d87-e101-f48af905facf"
      },
      "source": [
        "matrix_size_t = model_01.layers[-2].output.shape[1]\n",
        "print(matrix_size_t)\n",
        "new_model_t = Model(model_01.inputs, model_01.layers[-2].output)"
      ],
      "execution_count": null,
      "outputs": [
        {
          "output_type": "stream",
          "text": [
            "100\n"
          ],
          "name": "stdout"
        }
      ]
    },
    {
      "cell_type": "code",
      "metadata": {
        "id": "HWvoli6GohRq"
      },
      "source": [
        "X_text_train = new_model_t.predict(np.array(X_train))\n",
        "X_text_test = new_model_t.predict(np.array(X_test))"
      ],
      "execution_count": null,
      "outputs": []
    },
    {
      "cell_type": "markdown",
      "metadata": {
        "id": "Ji_xHuwSoE3R"
      },
      "source": [
        "# Combine"
      ]
    },
    {
      "cell_type": "code",
      "metadata": {
        "id": "ya9e6OxJoa-z"
      },
      "source": [
        "final_name_list = new_name_list+name_list_ns"
      ],
      "execution_count": null,
      "outputs": []
    },
    {
      "cell_type": "code",
      "metadata": {
        "id": "fwP_EozjtS0L"
      },
      "source": [
        "flist1, flist2, svavs, sbbxb = train_test_split(final_name_list, [0 for i in range(690)], test_size=0.2, random_state=42)\n",
        "flist = flist1+flist2\n",
        "flist = np.array(flist)"
      ],
      "execution_count": null,
      "outputs": []
    },
    {
      "cell_type": "code",
      "metadata": {
        "id": "QDYQP0t2oG34"
      },
      "source": [
        "X_audio_train, X_audio_test, y_final_train, y_final_test = train_test_split(X_audio, y_audio, test_size=0.2, random_state=42)"
      ],
      "execution_count": null,
      "outputs": []
    },
    {
      "cell_type": "markdown",
      "metadata": {
        "id": "yHokvjUQz0l3"
      },
      "source": [
        "### Hybrid Model"
      ]
    },
    {
      "cell_type": "markdown",
      "metadata": {
        "id": "dfSnlJMViTuv"
      },
      "source": [
        "#### code"
      ]
    },
    {
      "cell_type": "code",
      "metadata": {
        "id": "1c88spwQjw1B"
      },
      "source": [
        "from sklearn.linear_model import LogisticRegression\n",
        "from sklearn.naive_bayes import GaussianNB\n",
        "from sklearn import tree\n",
        "from sklearn.neural_network import MLPClassifier"
      ],
      "execution_count": null,
      "outputs": []
    },
    {
      "cell_type": "code",
      "metadata": {
        "id": "rB9BWMFlz3nW",
        "colab": {
          "base_uri": "https://localhost:8080/"
        },
        "outputId": "3e12fae2-4cf6-4536-8226-77e565a3e4dd"
      },
      "source": [
        "from sklearn.model_selection import KFold\n",
        "\n",
        "X_final_train = np.concatenate((X_text_train, X_audio_train), axis=1)\n",
        "X_final_test = np.concatenate((X_text_test, X_audio_test), axis=1)\n",
        "\n",
        "final_X_combine = np.concatenate((X_final_train,X_final_test), axis=0)\n",
        "final_X_audio = np.concatenate((X_audio_train,X_audio_test), axis=0)\n",
        "final_X_text = np.concatenate((X_text_train,X_text_test), axis=0)\n",
        "final_Y = np.concatenate((y_final_train,y_final_test), axis=0)\n",
        "\n",
        "kf = KFold(n_splits=5, shuffle=True)\n",
        "\n",
        "TAC = [[],[],[],[],[]]\n",
        "F1C = [[],[],[],[],[]]\n",
        "PRC = [[],[],[],[],[]]\n",
        "RLC = [[],[],[],[],[]]\n",
        "\n",
        "TAA = []\n",
        "F1A = []\n",
        "PRA = []\n",
        "RLA = []\n",
        "\n",
        "TAT = []\n",
        "F1T = []\n",
        "PRT = []\n",
        "RLT = []\n",
        "\n",
        "ctaftt = []\n",
        "ctattf = []\n",
        "ctaftf = []\n",
        "for train_index, test_index in kf.split(final_X_combine):\n",
        "  list_tr, list_te = flist[train_index], flist[test_index]\n",
        "\n",
        "  kfX_train_combine, kfX_test_combine = final_X_combine[train_index], final_X_combine[test_index]\n",
        "  kfy_train, kfy_test = final_Y[train_index], final_Y[test_index]\n",
        "\n",
        "  dfT = pd.DataFrame(kfX_train_combine)\n",
        "  dft = pd.DataFrame(kfX_test_combine)\n",
        "\n",
        "  dfT = dfT.fillna(0)\n",
        "  dft = dft.fillna(0)\n",
        "\n",
        "  'svm'\n",
        "  clf1 = svm.SVC()\n",
        "  clf1.fit(dfT, kfy_train)\n",
        "\n",
        "  TAC[0].append(clf1.score(dft,kfy_test))\n",
        "  y_final_pred_1 = clf1.predict(dft)\n",
        "  F1C[0].append(f1_score(y_final_pred_1, kfy_test))\n",
        "  PRC[0].append(precision_score(y_final_pred_1, kfy_test))\n",
        "  RLC[0].append(recall_score(y_final_pred_1, kfy_test))\n",
        "\n",
        "  'log_reg'\n",
        "  clf2 = LogisticRegression(random_state=0).fit(dfT, kfy_train)\n",
        "\n",
        "  TAC[1].append(clf2.score(dft,kfy_test))\n",
        "  y_final_pred_1 = clf2.predict(dft)\n",
        "  F1C[1].append(f1_score(y_final_pred_1, kfy_test))\n",
        "  PRC[1].append(precision_score(y_final_pred_1, kfy_test))\n",
        "  RLC[1].append(recall_score(y_final_pred_1, kfy_test))\n",
        "\n",
        "  'naive_bayes'\n",
        "  clf3 = GaussianNB()\n",
        "  clf3.fit(dfT, kfy_train)\n",
        "\n",
        "  TAC[2].append(clf3.score(dft,kfy_test))\n",
        "  y_final_pred_1 = clf3.predict(dft)\n",
        "  F1C[2].append(f1_score(y_final_pred_1, kfy_test))\n",
        "  PRC[2].append(precision_score(y_final_pred_1, kfy_test))\n",
        "  RLC[2].append(recall_score(y_final_pred_1, kfy_test))\n",
        "\n",
        "  'tree'\n",
        "  clf4 = tree.DecisionTreeClassifier()\n",
        "  clf4.fit(dfT, kfy_train)\n",
        "\n",
        "  TAC[3].append(clf4.score(dft,kfy_test))\n",
        "  y_final_pred_1 = clf4.predict(dft)\n",
        "  F1C[3].append(f1_score(y_final_pred_1, kfy_test))\n",
        "  PRC[3].append(precision_score(y_final_pred_1, kfy_test))\n",
        "  RLC[3].append(recall_score(y_final_pred_1, kfy_test))\n",
        "\n",
        "  'mlp'\n",
        "  clf5 = MLPClassifier(solver='lbfgs', alpha=1e-5, hidden_layer_sizes=(5, 2), random_state=1)\n",
        "  clf5.fit(dfT, kfy_train)\n",
        "\n",
        "  TAC[4].append(clf5.score(dft,kfy_test))\n",
        "  y_final_pred_1 = clf5.predict(dft)\n",
        "  F1C[4].append(f1_score(y_final_pred_1, kfy_test))\n",
        "  PRC[4].append(precision_score(y_final_pred_1, kfy_test))\n",
        "  RLC[4].append(recall_score(y_final_pred_1, kfy_test))"
      ],
      "execution_count": null,
      "outputs": [
        {
          "output_type": "stream",
          "text": [
            "/usr/local/lib/python3.7/dist-packages/sklearn/neural_network/_multilayer_perceptron.py:470: ConvergenceWarning: lbfgs failed to converge (status=1):\n",
            "STOP: TOTAL NO. of ITERATIONS REACHED LIMIT.\n",
            "\n",
            "Increase the number of iterations (max_iter) or scale the data as shown in:\n",
            "    https://scikit-learn.org/stable/modules/preprocessing.html\n",
            "  self.n_iter_ = _check_optimize_result(\"lbfgs\", opt_res, self.max_iter)\n",
            "/usr/local/lib/python3.7/dist-packages/sklearn/neural_network/_multilayer_perceptron.py:470: ConvergenceWarning: lbfgs failed to converge (status=1):\n",
            "STOP: TOTAL NO. of ITERATIONS REACHED LIMIT.\n",
            "\n",
            "Increase the number of iterations (max_iter) or scale the data as shown in:\n",
            "    https://scikit-learn.org/stable/modules/preprocessing.html\n",
            "  self.n_iter_ = _check_optimize_result(\"lbfgs\", opt_res, self.max_iter)\n",
            "/usr/local/lib/python3.7/dist-packages/sklearn/neural_network/_multilayer_perceptron.py:470: ConvergenceWarning: lbfgs failed to converge (status=1):\n",
            "STOP: TOTAL NO. of ITERATIONS REACHED LIMIT.\n",
            "\n",
            "Increase the number of iterations (max_iter) or scale the data as shown in:\n",
            "    https://scikit-learn.org/stable/modules/preprocessing.html\n",
            "  self.n_iter_ = _check_optimize_result(\"lbfgs\", opt_res, self.max_iter)\n",
            "/usr/local/lib/python3.7/dist-packages/sklearn/neural_network/_multilayer_perceptron.py:470: ConvergenceWarning: lbfgs failed to converge (status=1):\n",
            "STOP: TOTAL NO. of ITERATIONS REACHED LIMIT.\n",
            "\n",
            "Increase the number of iterations (max_iter) or scale the data as shown in:\n",
            "    https://scikit-learn.org/stable/modules/preprocessing.html\n",
            "  self.n_iter_ = _check_optimize_result(\"lbfgs\", opt_res, self.max_iter)\n",
            "/usr/local/lib/python3.7/dist-packages/sklearn/neural_network/_multilayer_perceptron.py:470: ConvergenceWarning: lbfgs failed to converge (status=1):\n",
            "STOP: TOTAL NO. of ITERATIONS REACHED LIMIT.\n",
            "\n",
            "Increase the number of iterations (max_iter) or scale the data as shown in:\n",
            "    https://scikit-learn.org/stable/modules/preprocessing.html\n",
            "  self.n_iter_ = _check_optimize_result(\"lbfgs\", opt_res, self.max_iter)\n"
          ],
          "name": "stderr"
        }
      ]
    },
    {
      "cell_type": "markdown",
      "metadata": {
        "id": "vh1j0qkkcDEl"
      },
      "source": [
        "#### results"
      ]
    },
    {
      "cell_type": "code",
      "metadata": {
        "colab": {
          "base_uri": "https://localhost:8080/"
        },
        "id": "DjHYRE221WS9",
        "outputId": "45defdf0-c43d-4d4d-8376-be37fcee3bc7"
      },
      "source": [
        "print('svm')\n",
        "print(\"{0:0.4f}\".format(np.mean(F1C[0])), \"{0:0.4f}\".format(np.mean(TAC[0])), \"{0:0.4f}\".format(np.mean(PRC[0])), \"{0:0.4f}\".format(np.mean(RLC[0])))\n",
        "print('log_reg')\n",
        "print(\"{0:0.4f}\".format(np.mean(F1C[1])), \"{0:0.4f}\".format(np.mean(TAC[1])), \"{0:0.4f}\".format(np.mean(PRC[1])), \"{0:0.4f}\".format(np.mean(RLC[1])))\n",
        "print('bayes')\n",
        "print(\"{0:0.4f}\".format(np.mean(F1C[2])), \"{0:0.4f}\".format(np.mean(TAC[2])), \"{0:0.4f}\".format(np.mean(PRC[2])), \"{0:0.4f}\".format(np.mean(RLC[2])))\n",
        "print('tree')\n",
        "print(\"{0:0.4f}\".format(np.mean(F1C[3])), \"{0:0.4f}\".format(np.mean(TAC[3])), \"{0:0.4f}\".format(np.mean(PRC[3])), \"{0:0.4f}\".format(np.mean(RLC[3])))\n",
        "print('mlp')\n",
        "print(\"{0:0.4f}\".format(np.mean(F1C[4])), \"{0:0.4f}\".format(np.mean(TAC[4])), \"{0:0.4f}\".format(np.mean(PRC[4])), \"{0:0.4f}\".format(np.mean(RLC[4])))"
      ],
      "execution_count": null,
      "outputs": [
        {
          "output_type": "stream",
          "text": [
            "svm\n",
            "0.6901 0.6710 0.7326 0.6539\n",
            "log_reg\n",
            "0.6664 0.6638 0.6724 0.6649\n",
            "bayes\n",
            "0.6477 0.6333 0.6773 0.6223\n",
            "tree\n",
            "0.5609 0.5652 0.5544 0.5705\n",
            "mlp\n",
            "0.6127 0.6072 0.6245 0.6070\n"
          ],
          "name": "stdout"
        }
      ]
    },
    {
      "cell_type": "code",
      "metadata": {
        "colab": {
          "base_uri": "https://localhost:8080/",
          "height": 334
        },
        "id": "1kWHz8F-dH-L",
        "outputId": "b875ff6f-bd4a-471f-a4b6-edd2ea8aa27f"
      },
      "source": [
        "import matplotlib.pyplot as plt\n",
        "from matplotlib.pyplot import figure\n",
        "\n",
        "figure(figsize=(15,5))\n",
        "\n",
        "plt.xlabel('K-Folds')\n",
        "plt.ylabel('F1 Score')\n",
        "\n",
        "plt.xticks(ticks=[1,2,3,4,5])\n",
        "\n",
        "plt.plot([1,2,3,4,5], F1C[0], marker='o', label='SVM')\n",
        "plt.plot([1,2,3,4,5], F1C[1], marker='o', label='Logistic_Regression')\n",
        "plt.plot([1,2,3,4,5], F1C[2], marker='o', label='Naive_Bayes')\n",
        "#plt.plot([1,2,3,4,5], F1C[3], marker='o', label='tree')\n",
        "plt.plot([1,2,3,4,5], F1C[4], marker='o', label='mlp')\n",
        "\n",
        "plt.legend()\n",
        "plt.show()"
      ],
      "execution_count": null,
      "outputs": [
        {
          "output_type": "display_data",
          "data": {
            "image/png": "[encoded data removed]",
            "text/plain": [
              "<Figure size 1080x360 with 1 Axes>"
            ]
          },
          "metadata": {
            "tags": [],
            "needs_background": "light"
          }
        }
      ]
    },
    {
      "cell_type": "code",
      "metadata": {
        "colab": {
          "base_uri": "https://localhost:8080/",
          "height": 334
        },
        "id": "th9-Psc11gTN",
        "outputId": "6603f3d0-83e7-45f4-c362-d4393d7e3599"
      },
      "source": [
        "import matplotlib.pyplot as plt\n",
        "from matplotlib.pyplot import figure\n",
        "\n",
        "figure(figsize=(15,5))\n",
        "\n",
        "plt.xlabel('K-Folds')\n",
        "plt.ylabel('Accuracy')\n",
        "\n",
        "plt.xticks(ticks=[1,2,3,4,5])\n",
        "\n",
        "plt.plot([1,2,3,4,5], TAC[0], marker='o', label='SVM')\n",
        "plt.plot([1,2,3,4,5], TAC[1], marker='o', label='Logistic_Regression')\n",
        "plt.plot([1,2,3,4,5], TAC[2], marker='o', label='Naive_Bayes')\n",
        "#plt.plot([1,2,3,4,5], TAC[3], marker='o', label='tree')\n",
        "plt.plot([1,2,3,4,5], TAC[4], marker='o', label='mlp')\n",
        "\n",
        "plt.legend()\n",
        "plt.show()"
      ],
      "execution_count": null,
      "outputs": [
        {
          "output_type": "display_data",
          "data": {
            "image/png": "[encoded data removed]",
            "text/plain": [
              "<Figure size 1080x360 with 1 Axes>"
            ]
          },
          "metadata": {
            "tags": [],
            "needs_background": "light"
          }
        }
      ]
    },
    {
      "cell_type": "markdown",
      "metadata": {
        "id": "EhfNx7aGR2DH"
      },
      "source": [
        "## Only audio"
      ]
    },
    {
      "cell_type": "code",
      "metadata": {
        "id": "fihKmdumRxBs"
      },
      "source": [
        "X_final_train = X_audio_train\n",
        "X_final_test = X_audio_test"
      ],
      "execution_count": null,
      "outputs": []
    },
    {
      "cell_type": "markdown",
      "metadata": {
        "id": "ORYkZvGw4Mu5"
      },
      "source": [
        "### K Fold"
      ]
    },
    {
      "cell_type": "code",
      "metadata": {
        "id": "56cyInhs4N_Z"
      },
      "source": [
        "from sklearn.model_selection import KFold\n",
        "final_X = np.concatenate((X_final_train,X_final_test), axis=0)\n",
        "final_Y = np.concatenate((y_final_train,y_final_test), axis=0)\n",
        "kf = KFold(n_splits=5, shuffle=True)\n",
        "TA = []\n",
        "F1 = []\n",
        "PR = []\n",
        "RL = []\n",
        "for train_index, test_index in kf.split(final_X):\n",
        "  kfX_train, kfX_test = final_X[train_index], final_X[test_index]\n",
        "  kfy_train, kfy_test = final_Y[train_index], final_Y[test_index]\n",
        "  dfT = pd.DataFrame(kfX_train)\n",
        "  dft = pd.DataFrame(kfX_test)\n",
        "  dfT = dfT.fillna(0)\n",
        "  dft = dft.fillna(0)\n",
        "  clf1 = svm.SVC()\n",
        "  clf1.fit(dfT, kfy_train)\n",
        "\n",
        "  TA.append(clf1.score(dft,kfy_test))\n",
        "  y_final_pred_1 = clf1.predict(dft)\n",
        "  F1.append(f1_score(y_final_pred_1, kfy_test))\n",
        "  PR.append(precision_score(y_final_pred_1, kfy_test))\n",
        "  RL.append(recall_score(y_final_pred_1, kfy_test))"
      ],
      "execution_count": null,
      "outputs": []
    },
    {
      "cell_type": "code",
      "metadata": {
        "colab": {
          "base_uri": "https://localhost:8080/"
        },
        "id": "xwvID9xr7tIQ",
        "outputId": "5e0bce0a-5da5-4056-90e9-8faa2648af1d"
      },
      "source": [
        "max(F1), np.mean(F1), max(TA), np.mean(TA)"
      ],
      "execution_count": null,
      "outputs": [
        {
          "output_type": "execute_result",
          "data": {
            "text/plain": [
              "(0.75, 0.6923759416972768, 0.7246376811594203, 0.6753623188405797)"
            ]
          },
          "metadata": {
            "tags": []
          },
          "execution_count": 78
        }
      ]
    },
    {
      "cell_type": "code",
      "metadata": {
        "colab": {
          "base_uri": "https://localhost:8080/"
        },
        "id": "TQtRc2mS77CH",
        "outputId": "5fd8b43c-1d38-4410-e286-dcd19536d960"
      },
      "source": [
        "max(F1), np.mean(F1), max(TA), np.mean(TA)"
      ],
      "execution_count": null,
      "outputs": [
        {
          "output_type": "execute_result",
          "data": {
            "text/plain": [
              "(0.75, 0.6923759416972768, 0.7246376811594203, 0.6753623188405797)"
            ]
          },
          "metadata": {
            "tags": []
          },
          "execution_count": 77
        }
      ]
    },
    {
      "cell_type": "markdown",
      "metadata": {
        "id": "VfNyeZskyRhm"
      },
      "source": [
        "### Multiple Model"
      ]
    },
    {
      "cell_type": "code",
      "metadata": {
        "id": "_uUZ5niWyTz6"
      },
      "source": [
        "final_X = np.concatenate((X_final_train,X_final_test), axis=0)\n",
        "final_Y = np.concatenate((y_final_train,y_final_test), axis=0)\n",
        "II = []\n",
        "PR = []\n",
        "RCL = []\n",
        "II = [729,\n",
        " 125,\n",
        " 975,\n",
        " 948,\n",
        " 296,\n",
        " 921,\n",
        " 414,\n",
        " 85,\n",
        " 31,\n",
        " 792,\n",
        " 87,\n",
        " 259,\n",
        " 431,\n",
        " 931,\n",
        " 105,\n",
        " 237,\n",
        " 577,\n",
        " 120,\n",
        " 523,\n",
        " 710,\n",
        " 894,\n",
        " 395,\n",
        " 682,\n",
        " 144,\n",
        " 5,\n",
        " 670,\n",
        " 652,\n",
        " 413,\n",
        " 553,\n",
        " 452,\n",
        " 156,\n",
        " 619,\n",
        " 158,\n",
        " 121,\n",
        " 833,\n",
        " 974,\n",
        " 649,\n",
        " 966,\n",
        " 128,\n",
        " 719,\n",
        " 346,\n",
        " 210,\n",
        " 707,\n",
        " 203,\n",
        " 955,\n",
        " 128,\n",
        " 875,\n",
        " 427,\n",
        " 427,\n",
        " 423,\n",
        " 977,\n",
        " 8,\n",
        " 999,\n",
        " 395,\n",
        " 1000,\n",
        " 499,\n",
        " 397,\n",
        " 839,\n",
        " 516,\n",
        " 7,\n",
        " 494,\n",
        " 396,\n",
        " 161,\n",
        " 503,\n",
        " 577,\n",
        " 484,\n",
        " 555,\n",
        " 442,\n",
        " 731,\n",
        " 408,\n",
        " 70,\n",
        " 132,\n",
        " 898,\n",
        " 396,\n",
        " 225,\n",
        " 543,\n",
        " 377,\n",
        " 653,\n",
        " 888,\n",
        " 549,\n",
        " 928,\n",
        " 685,\n",
        " 457,\n",
        " 509,\n",
        " 860,\n",
        " 6,\n",
        " 316,\n",
        " 987,\n",
        " 530,\n",
        " 208,\n",
        " 408,\n",
        " 673,\n",
        " 423,\n",
        " 638,\n",
        " 581,\n",
        " 387,\n",
        " 258,\n",
        " 91,\n",
        " 831,\n",
        " 198]\n",
        "TA = []\n",
        "F1 = []\n",
        "for ijiki in range(100):\n",
        "  iki = II[ijiki]#random.randint(1,1000)\n",
        "  #II.append(iki)\n",
        "\n",
        "  X_final_train, X_final_test, y_final_train, y_final_test = train_test_split(final_X, final_Y, test_size=0.2, random_state=iki)\n",
        "\n",
        "  dfT = pd.DataFrame(X_final_train)\n",
        "  dft = pd.DataFrame(X_final_test)\n",
        "\n",
        "  dfT = dfT.fillna(0)\n",
        "  dft = dft.fillna(0)\n",
        "\n",
        "  clf1 = svm.SVC()\n",
        "  clf1.fit(dfT, y_final_train)\n",
        "\n",
        "  y_final_pred_1 = clf1.predict(dft)\n",
        "\n",
        "  TA.append(clf1.score(dft,y_final_test))\n",
        "  y_pred = clf1.predict(dft)\n",
        "  PR.append(precision_score(y_final_test, y_pred))\n",
        "  RCL.append(recall_score(y_final_test, y_pred))\n",
        "  F1.append(f1_score(y_final_pred_1, y_final_test))"
      ],
      "execution_count": null,
      "outputs": []
    },
    {
      "cell_type": "code",
      "metadata": {
        "colab": {
          "base_uri": "https://localhost:8080/"
        },
        "id": "LiyAZ-qLyTz7",
        "outputId": "6e4d10e4-a210-4019-f6c9-306c986cde37"
      },
      "source": [
        "np.mean(F1), np.mean(TA), np.mean(PR), np.mean(RCL)"
      ],
      "execution_count": null,
      "outputs": [
        {
          "output_type": "execute_result",
          "data": {
            "text/plain": [
              "(0.5299308339032415,\n",
              " 0.4901449275362319,\n",
              " 0.4962042939228916,\n",
              " 0.5881047839819148)"
            ]
          },
          "metadata": {
            "tags": []
          },
          "execution_count": 80
        }
      ]
    },
    {
      "cell_type": "code",
      "metadata": {
        "colab": {
          "base_uri": "https://localhost:8080/",
          "height": 336
        },
        "id": "6M8Uty2CyTz8",
        "outputId": "48886e65-2a67-436d-d78f-86846f573d59"
      },
      "source": [
        "import matplotlib.pyplot as plt\n",
        "fig = plt.figure()\n",
        "ax = fig.add_axes([0,0,1,1])\n",
        "ax.bar([j for j in range(100)] , F1, color = 'b', width = 0.25)\n",
        "ax.bar([j+0.25 for j in range(100)] , TA, color = 'g', width = 0.25)\n",
        "plt.show()"
      ],
      "execution_count": null,
      "outputs": [
        {
          "output_type": "display_data",
          "data": {
            "image/png": "[encoded data removed]",
            "text/plain": [
              "<Figure size 432x288 with 1 Axes>"
            ]
          },
          "metadata": {
            "tags": [],
            "needs_background": "light"
          }
        }
      ]
    },
    {
      "cell_type": "markdown",
      "metadata": {
        "id": "cbuZUvbxyVWF"
      },
      "source": [
        "### Regular"
      ]
    },
    {
      "cell_type": "code",
      "metadata": {
        "id": "Jm3AAw6PSZag"
      },
      "source": [
        "import pandas as pd\n",
        "\n",
        "dfT = pd.DataFrame(X_final_train)\n",
        "dft = pd.DataFrame(X_final_test)"
      ],
      "execution_count": null,
      "outputs": []
    },
    {
      "cell_type": "code",
      "metadata": {
        "id": "I3OOZAcgSZaj"
      },
      "source": [
        "dfT = dfT.fillna(0)\n",
        "dft = dft.fillna(0)"
      ],
      "execution_count": null,
      "outputs": []
    },
    {
      "cell_type": "code",
      "metadata": {
        "colab": {
          "base_uri": "https://localhost:8080/"
        },
        "id": "hDY0tANQSZaj",
        "outputId": "d17bb22f-bfad-4f58-eb39-88af912f2266"
      },
      "source": [
        "from sklearn import svm\n",
        "\n",
        "clf1 = svm.SVC()\n",
        "clf1.fit(dfT, y_final_train)"
      ],
      "execution_count": null,
      "outputs": [
        {
          "output_type": "execute_result",
          "data": {
            "text/plain": [
              "SVC(C=1.0, break_ties=False, cache_size=200, class_weight=None, coef0=0.0,\n",
              "    decision_function_shape='ovr', degree=3, gamma='scale', kernel='rbf',\n",
              "    max_iter=-1, probability=False, random_state=None, shrinking=True,\n",
              "    tol=0.001, verbose=False)"
            ]
          },
          "metadata": {
            "tags": []
          },
          "execution_count": 101
        }
      ]
    },
    {
      "cell_type": "code",
      "metadata": {
        "id": "WkJTWfUhSZaj"
      },
      "source": [
        "y_final_pred_1 = clf1.predict(dft)"
      ],
      "execution_count": null,
      "outputs": []
    },
    {
      "cell_type": "code",
      "metadata": {
        "colab": {
          "base_uri": "https://localhost:8080/"
        },
        "id": "GZwva40SSZak",
        "outputId": "35126858-600d-4ff7-9f11-cc770385c9f5"
      },
      "source": [
        "clf1.score(dft,y_final_test)"
      ],
      "execution_count": null,
      "outputs": [
        {
          "output_type": "execute_result",
          "data": {
            "text/plain": [
              "0.7318840579710145"
            ]
          },
          "metadata": {
            "tags": []
          },
          "execution_count": 103
        }
      ]
    },
    {
      "cell_type": "code",
      "metadata": {
        "colab": {
          "base_uri": "https://localhost:8080/"
        },
        "id": "53rPqsEzSZak",
        "outputId": "8cbd83d4-ee8c-4d3c-9904-e14720751333"
      },
      "source": [
        "f1_score(y_final_pred_1, y_final_test)"
      ],
      "execution_count": null,
      "outputs": [
        {
          "output_type": "execute_result",
          "data": {
            "text/plain": [
              "0.7516778523489933"
            ]
          },
          "metadata": {
            "tags": []
          },
          "execution_count": 104
        }
      ]
    },
    {
      "cell_type": "code",
      "metadata": {
        "colab": {
          "base_uri": "https://localhost:8080/"
        },
        "id": "mFAtqOWXSZak",
        "outputId": "b5a2c8f1-1350-4a92-a3d9-1f8b07eb8575"
      },
      "source": [
        "confusion_matrix(y_final_test, y_final_pred_1)"
      ],
      "execution_count": null,
      "outputs": [
        {
          "output_type": "execute_result",
          "data": {
            "text/plain": [
              "array([[45, 12],\n",
              "       [25, 56]])"
            ]
          },
          "metadata": {
            "tags": []
          },
          "execution_count": 105
        }
      ]
    },
    {
      "cell_type": "code",
      "metadata": {
        "colab": {
          "base_uri": "https://localhost:8080/"
        },
        "id": "h6YjEXqFSZal",
        "outputId": "f9e65ddf-878e-4467-aeb1-0a381f3cf84e"
      },
      "source": [
        "from sklearn import tree\n",
        "clf = tree.DecisionTreeClassifier()\n",
        "clf.fit(dfT, y_final_train)"
      ],
      "execution_count": null,
      "outputs": [
        {
          "output_type": "execute_result",
          "data": {
            "text/plain": [
              "DecisionTreeClassifier(ccp_alpha=0.0, class_weight=None, criterion='gini',\n",
              "                       max_depth=None, max_features=None, max_leaf_nodes=None,\n",
              "                       min_impurity_decrease=0.0, min_impurity_split=None,\n",
              "                       min_samples_leaf=1, min_samples_split=2,\n",
              "                       min_weight_fraction_leaf=0.0, presort='deprecated',\n",
              "                       random_state=None, splitter='best')"
            ]
          },
          "metadata": {
            "tags": []
          },
          "execution_count": 106
        }
      ]
    },
    {
      "cell_type": "code",
      "metadata": {
        "id": "tDvOtITsSZam"
      },
      "source": [
        "y_final_pred = clf.predict(dft)"
      ],
      "execution_count": null,
      "outputs": []
    },
    {
      "cell_type": "code",
      "metadata": {
        "colab": {
          "base_uri": "https://localhost:8080/"
        },
        "id": "hqcMtPU6SZam",
        "outputId": "664d0657-f5cd-4705-d6bf-bb63a4d94214"
      },
      "source": [
        "clf.score(dft,y_final_test)"
      ],
      "execution_count": null,
      "outputs": [
        {
          "output_type": "execute_result",
          "data": {
            "text/plain": [
              "0.5362318840579711"
            ]
          },
          "metadata": {
            "tags": []
          },
          "execution_count": 108
        }
      ]
    },
    {
      "cell_type": "code",
      "metadata": {
        "colab": {
          "base_uri": "https://localhost:8080/"
        },
        "id": "x5IVpGjzSZan",
        "outputId": "e9bae83d-e29c-4b5e-8c04-aa0affadbee0"
      },
      "source": [
        "f1_score(y_final_pred, y_final_test)"
      ],
      "execution_count": null,
      "outputs": [
        {
          "output_type": "execute_result",
          "data": {
            "text/plain": [
              "0.5428571428571428"
            ]
          },
          "metadata": {
            "tags": []
          },
          "execution_count": 109
        }
      ]
    },
    {
      "cell_type": "code",
      "metadata": {
        "colab": {
          "base_uri": "https://localhost:8080/"
        },
        "id": "CO6zckZUSZan",
        "outputId": "c4c7b498-288b-4665-a063-4e5a2aa7d185"
      },
      "source": [
        "confusion_matrix(y_final_test, y_final_pred)"
      ],
      "execution_count": null,
      "outputs": [
        {
          "output_type": "execute_result",
          "data": {
            "text/plain": [
              "array([[36, 21],\n",
              "       [43, 38]])"
            ]
          },
          "metadata": {
            "tags": []
          },
          "execution_count": 110
        }
      ]
    }
  ]
}